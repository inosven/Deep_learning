{
 "cells": [
  {
   "cell_type": "code",
   "execution_count": 194,
   "metadata": {},
   "outputs": [],
   "source": [
    "import tensorflow as tf\n",
    "import matplotlib.pyplot as plt\n",
    "import numpy as np\n",
    "import pandas as pd\n",
    "from sklearn.utils import shuffle"
   ]
  },
  {
   "cell_type": "code",
   "execution_count": 195,
   "metadata": {},
   "outputs": [
    {
     "name": "stdout",
     "output_type": "stream",
     "text": [
      "             CRIM         ZN       INDUS         CHAS         NOX          RM  \\\n",
      "count  506.000000  506.000000  506.000000  506.000000  506.000000  506.000000   \n",
      "mean     3.613524   11.363636   11.136779    0.069170    0.554695    6.284634   \n",
      "std      8.601545   23.322453    6.860353    0.253994    0.115878    0.702617   \n",
      "min      0.006320    0.000000    0.460000    0.000000    0.385000    3.561000   \n",
      "25%      0.082045    0.000000    5.190000    0.000000    0.449000    5.885500   \n",
      "50%      0.256510    0.000000    9.690000    0.000000    0.538000    6.208500   \n",
      "75%      3.677083   12.500000   18.100000    0.000000    0.624000    6.623500   \n",
      "max     88.976200  100.000000   27.740000    1.000000    0.871000    8.780000   \n",
      "\n",
      "              AGE         DIS         RAD         TAX     PTRATIO       LSTAT  \\\n",
      "count  506.000000  506.000000  506.000000  506.000000  506.000000  506.000000   \n",
      "mean    68.574901    3.795043    9.549407  408.237154   18.455534   12.653063   \n",
      "std     28.148861    2.105710    8.707259  168.537116    2.164946    7.141062   \n",
      "min      2.900000    1.129600    1.000000  187.000000   12.600000    1.730000   \n",
      "25%     45.025000    2.100175    4.000000  279.000000   17.400000    6.950000   \n",
      "50%     77.500000    3.207450    5.000000  330.000000   19.050000   11.360000   \n",
      "75%     94.075000    5.188425   24.000000  666.000000   20.200000   16.955000   \n",
      "max    100.000000   12.126500   24.000000  711.000000   22.000000   37.970000   \n",
      "\n",
      "             MEDV  \n",
      "count  506.000000  \n",
      "mean    22.532806  \n",
      "std      9.197104  \n",
      "min      5.000000  \n",
      "25%     17.025000  \n",
      "50%     21.200000  \n",
      "75%     25.000000  \n",
      "max     50.000000  \n"
     ]
    }
   ],
   "source": [
    "df = pd.read_csv('data/boston.csv', header=0)\n",
    "print(df.describe())"
   ]
  },
  {
   "cell_type": "code",
   "execution_count": 196,
   "metadata": {},
   "outputs": [
    {
     "data": {
      "text/html": [
       "<div>\n",
       "<style scoped>\n",
       "    .dataframe tbody tr th:only-of-type {\n",
       "        vertical-align: middle;\n",
       "    }\n",
       "\n",
       "    .dataframe tbody tr th {\n",
       "        vertical-align: top;\n",
       "    }\n",
       "\n",
       "    .dataframe thead th {\n",
       "        text-align: right;\n",
       "    }\n",
       "</style>\n",
       "<table border=\"1\" class=\"dataframe\">\n",
       "  <thead>\n",
       "    <tr style=\"text-align: right;\">\n",
       "      <th></th>\n",
       "      <th>CRIM</th>\n",
       "      <th>ZN</th>\n",
       "      <th>INDUS</th>\n",
       "      <th>CHAS</th>\n",
       "      <th>NOX</th>\n",
       "      <th>RM</th>\n",
       "      <th>AGE</th>\n",
       "      <th>DIS</th>\n",
       "      <th>RAD</th>\n",
       "      <th>TAX</th>\n",
       "      <th>PTRATIO</th>\n",
       "      <th>LSTAT</th>\n",
       "      <th>MEDV</th>\n",
       "    </tr>\n",
       "  </thead>\n",
       "  <tbody>\n",
       "    <tr>\n",
       "      <th>501</th>\n",
       "      <td>0.06263</td>\n",
       "      <td>0.0</td>\n",
       "      <td>11.93</td>\n",
       "      <td>0</td>\n",
       "      <td>0.573</td>\n",
       "      <td>6.593</td>\n",
       "      <td>69.1</td>\n",
       "      <td>2.4786</td>\n",
       "      <td>1</td>\n",
       "      <td>273</td>\n",
       "      <td>21.0</td>\n",
       "      <td>9.67</td>\n",
       "      <td>22.4</td>\n",
       "    </tr>\n",
       "    <tr>\n",
       "      <th>502</th>\n",
       "      <td>0.04527</td>\n",
       "      <td>0.0</td>\n",
       "      <td>11.93</td>\n",
       "      <td>0</td>\n",
       "      <td>0.573</td>\n",
       "      <td>6.120</td>\n",
       "      <td>76.7</td>\n",
       "      <td>2.2875</td>\n",
       "      <td>1</td>\n",
       "      <td>273</td>\n",
       "      <td>21.0</td>\n",
       "      <td>9.08</td>\n",
       "      <td>20.6</td>\n",
       "    </tr>\n",
       "    <tr>\n",
       "      <th>503</th>\n",
       "      <td>0.06076</td>\n",
       "      <td>0.0</td>\n",
       "      <td>11.93</td>\n",
       "      <td>0</td>\n",
       "      <td>0.573</td>\n",
       "      <td>6.976</td>\n",
       "      <td>91.0</td>\n",
       "      <td>2.1675</td>\n",
       "      <td>1</td>\n",
       "      <td>273</td>\n",
       "      <td>21.0</td>\n",
       "      <td>5.64</td>\n",
       "      <td>23.9</td>\n",
       "    </tr>\n",
       "    <tr>\n",
       "      <th>504</th>\n",
       "      <td>0.10959</td>\n",
       "      <td>0.0</td>\n",
       "      <td>11.93</td>\n",
       "      <td>0</td>\n",
       "      <td>0.573</td>\n",
       "      <td>6.794</td>\n",
       "      <td>89.3</td>\n",
       "      <td>2.3889</td>\n",
       "      <td>1</td>\n",
       "      <td>273</td>\n",
       "      <td>21.0</td>\n",
       "      <td>6.48</td>\n",
       "      <td>22.0</td>\n",
       "    </tr>\n",
       "    <tr>\n",
       "      <th>505</th>\n",
       "      <td>0.04741</td>\n",
       "      <td>0.0</td>\n",
       "      <td>11.93</td>\n",
       "      <td>0</td>\n",
       "      <td>0.573</td>\n",
       "      <td>6.030</td>\n",
       "      <td>80.8</td>\n",
       "      <td>2.5050</td>\n",
       "      <td>1</td>\n",
       "      <td>273</td>\n",
       "      <td>21.0</td>\n",
       "      <td>7.88</td>\n",
       "      <td>11.9</td>\n",
       "    </tr>\n",
       "  </tbody>\n",
       "</table>\n",
       "</div>"
      ],
      "text/plain": [
       "        CRIM   ZN   INDUS   CHAS    NOX     RM   AGE     DIS  RAD  TAX  \\\n",
       "501  0.06263   0.0   11.93     0  0.573  6.593  69.1  2.4786    1  273   \n",
       "502  0.04527   0.0   11.93     0  0.573  6.120  76.7  2.2875    1  273   \n",
       "503  0.06076   0.0   11.93     0  0.573  6.976  91.0  2.1675    1  273   \n",
       "504  0.10959   0.0   11.93     0  0.573  6.794  89.3  2.3889    1  273   \n",
       "505  0.04741   0.0   11.93     0  0.573  6.030  80.8  2.5050    1  273   \n",
       "\n",
       "     PTRATIO  LSTAT  MEDV  \n",
       "501     21.0   9.67  22.4  \n",
       "502     21.0   9.08  20.6  \n",
       "503     21.0   5.64  23.9  \n",
       "504     21.0   6.48  22.0  \n",
       "505     21.0   7.88  11.9  "
      ]
     },
     "execution_count": 196,
     "metadata": {},
     "output_type": "execute_result"
    }
   ],
   "source": [
    "df.tail(5)"
   ]
  },
  {
   "cell_type": "code",
   "execution_count": 197,
   "metadata": {},
   "outputs": [],
   "source": [
    "ds = np.array(df.values)"
   ]
  },
  {
   "cell_type": "code",
   "execution_count": 198,
   "metadata": {},
   "outputs": [
    {
     "name": "stdout",
     "output_type": "stream",
     "text": [
      "(506, 13)\n",
      "[[6.3200e-03 1.8000e+01 2.3100e+00 ... 1.5300e+01 4.9800e+00 2.4000e+01]\n",
      " [2.7310e-02 0.0000e+00 7.0700e+00 ... 1.7800e+01 9.1400e+00 2.1600e+01]\n",
      " [2.7290e-02 0.0000e+00 7.0700e+00 ... 1.7800e+01 4.0300e+00 3.4700e+01]\n",
      " ...\n",
      " [6.0760e-02 0.0000e+00 1.1930e+01 ... 2.1000e+01 5.6400e+00 2.3900e+01]\n",
      " [1.0959e-01 0.0000e+00 1.1930e+01 ... 2.1000e+01 6.4800e+00 2.2000e+01]\n",
      " [4.7410e-02 0.0000e+00 1.1930e+01 ... 2.1000e+01 7.8800e+00 1.1900e+01]]\n"
     ]
    }
   ],
   "source": [
    "print(ds.shape)\n",
    "print(ds)"
   ]
  },
  {
   "cell_type": "code",
   "execution_count": 199,
   "metadata": {},
   "outputs": [
    {
     "name": "stdout",
     "output_type": "stream",
     "text": [
      "[[0.00000000e+00 1.80000000e-01 6.78152493e-02 ... 2.08015267e-01\n",
      "  2.87234043e-01 8.96799117e-02]\n",
      " [2.35922539e-04 0.00000000e+00 2.42302053e-01 ... 1.04961832e-01\n",
      "  5.53191489e-01 2.04470199e-01]\n",
      " [2.35697744e-04 0.00000000e+00 2.42302053e-01 ... 1.04961832e-01\n",
      "  5.53191489e-01 6.34657837e-02]\n",
      " ...\n",
      " [6.11892474e-04 0.00000000e+00 4.20454545e-01 ... 1.64122137e-01\n",
      "  8.93617021e-01 1.07891832e-01]\n",
      " [1.16072990e-03 0.00000000e+00 4.20454545e-01 ... 1.64122137e-01\n",
      "  8.93617021e-01 1.31070640e-01]\n",
      " [4.61841693e-04 0.00000000e+00 4.20454545e-01 ... 1.64122137e-01\n",
      "  8.93617021e-01 1.69701987e-01]] \n",
      " x_data shape: (506, 12)\n",
      "[24.  21.6 34.7 33.4 36.2 28.7 22.9 27.1 16.5 18.9 15.  18.9 21.7 20.4\n",
      " 18.2 19.9 23.1 17.5 20.2 18.2 13.6 19.6 15.2 14.5 15.6 13.9 16.6 14.8\n",
      " 18.4 21.  12.7 14.5 13.2 13.1 13.5 18.9 20.  21.  24.7 30.8 34.9 26.6\n",
      " 25.3 24.7 21.2 19.3 20.  16.6 14.4 19.4 19.7 20.5 25.  23.4 18.9 35.4\n",
      " 24.7 31.6 23.3 19.6 18.7 16.  22.2 25.  33.  23.5 19.4 22.  17.4 20.9\n",
      " 24.2 21.7 22.8 23.4 24.1 21.4 20.  20.8 21.2 20.3 28.  23.9 24.8 22.9\n",
      " 23.9 26.6 22.5 22.2 23.6 28.7 22.6 22.  22.9 25.  20.6 28.4 21.4 38.7\n",
      " 43.8 33.2 27.5 26.5 18.6 19.3 20.1 19.5 19.5 20.4 19.8 19.4 21.7 22.8\n",
      " 18.8 18.7 18.5 18.3 21.2 19.2 20.4 19.3 22.  20.3 20.5 17.3 18.8 21.4\n",
      " 15.7 16.2 18.  14.3 19.2 19.6 23.  18.4 15.6 18.1 17.4 17.1 13.3 17.8\n",
      " 14.  14.4 13.4 15.6 11.8 13.8 15.6 14.6 17.8 15.4 21.5 19.6 15.3 19.4\n",
      " 17.  15.6 13.1 41.3 24.3 23.3 27.  50.  50.  50.  22.7 25.  50.  23.8\n",
      " 23.8 22.3 17.4 19.1 23.1 23.6 22.6 29.4 23.2 24.6 29.9 37.2 39.8 36.2\n",
      " 37.9 32.5 26.4 29.6 50.  32.  29.8 34.9 37.  30.5 36.4 31.1 29.1 50.\n",
      " 33.3 30.3 34.6 34.9 32.9 24.1 42.3 48.5 50.  22.6 24.4 22.5 24.4 20.\n",
      " 21.7 19.3 22.4 28.1 23.7 25.  23.3 28.7 21.5 23.  26.7 21.7 27.5 30.1\n",
      " 44.8 50.  37.6 31.6 46.7 31.5 24.3 31.7 41.7 48.3 29.  24.  25.1 31.5\n",
      " 23.7 23.3 22.  20.1 22.2 23.7 17.6 18.5 24.3 20.5 24.5 26.2 24.4 24.8\n",
      " 29.6 42.8 21.9 20.9 44.  50.  36.  30.1 33.8 43.1 48.8 31.  36.5 22.8\n",
      " 30.7 50.  43.5 20.7 21.1 25.2 24.4 35.2 32.4 32.  33.2 33.1 29.1 35.1\n",
      " 45.4 35.4 46.  50.  32.2 22.  20.1 23.2 22.3 24.8 28.5 37.3 27.9 23.9\n",
      " 21.7 28.6 27.1 20.3 22.5 29.  24.8 22.  26.4 33.1 36.1 28.4 33.4 28.2\n",
      " 22.8 20.3 16.1 22.1 19.4 21.6 23.8 16.2 17.8 19.8 23.1 21.  23.8 23.1\n",
      " 20.4 18.5 25.  24.6 23.  22.2 19.3 22.6 19.8 17.1 19.4 22.2 20.7 21.1\n",
      " 19.5 18.5 20.6 19.  18.7 32.7 16.5 23.9 31.2 17.5 17.2 23.1 24.5 26.6\n",
      " 22.9 24.1 18.6 30.1 18.2 20.6 17.8 21.7 22.7 22.6 25.  19.9 20.8 16.8\n",
      " 21.9 27.5 21.9 23.1 50.  50.  50.  50.  50.  13.8 13.8 15.  13.9 13.3\n",
      " 13.1 10.2 10.4 10.9 11.3 12.3  8.8  7.2 10.5  7.4 10.2 11.5 15.1 23.2\n",
      "  9.7 13.8 12.7 13.1 12.5  8.5  5.   6.3  5.6  7.2 12.1  8.3  8.5  5.\n",
      " 11.9 27.9 17.2 27.5 15.  17.2 17.9 16.3  7.   7.2  7.5 10.4  8.8  8.4\n",
      " 16.7 14.2 20.8 13.4 11.7  8.3 10.2 10.9 11.   9.5 14.5 14.1 16.1 14.3\n",
      " 11.7 13.4  9.6  8.7  8.4 12.8 10.5 17.1 18.4 15.4 10.8 11.8 14.9 12.6\n",
      " 14.1 13.  13.4 15.2 16.1 17.8 14.9 14.1 12.7 13.5 14.9 20.  16.4 17.7\n",
      " 19.5 20.2 21.4 19.9 19.  19.1 19.1 20.1 19.9 19.6 23.2 29.8 13.8 13.3\n",
      " 16.7 12.  14.6 21.4 23.  23.7 25.  21.8 20.6 21.2 19.1 20.6 15.2  7.\n",
      "  8.1 13.6 20.1 21.8 24.5 23.1 19.7 18.3 21.2 17.5 16.8 22.4 20.6 23.9\n",
      " 22.  11.9] \n",
      " y_data shape: (506,)\n"
     ]
    }
   ],
   "source": [
    "x_data_unscaled = ds[:,:12]\n",
    "y_data = ds[:,12]\n",
    "\n",
    "from sklearn.preprocessing import StandardScaler,MinMaxScaler\n",
    "\n",
    "scaler = MinMaxScaler()\n",
    "\n",
    "x_data = scaler.fit_transform(x_data_unscaled)\n",
    "\n",
    "print(x_data,'\\n x_data shape:', x_data.shape)\n",
    "print(y_data, '\\n y_data shape:', y_data.shape)"
   ]
  },
  {
   "cell_type": "code",
   "execution_count": 200,
   "metadata": {},
   "outputs": [],
   "source": [
    "from sklearn.model_selection import train_test_split\n",
    "\n",
    "x_train, X_rem, y_train, Y_rem = train_test_split(x_data, y_data, train_size = 0.6)\n",
    "\n",
    "x_valid, x_test, y_valid, y_test = train_test_split(X_rem, Y_rem, train_size = 0.5)"
   ]
  },
  {
   "cell_type": "code",
   "execution_count": 201,
   "metadata": {},
   "outputs": [],
   "source": [
    "x_train = tf.cast(x_train, dtype=tf.float32)\n",
    "x_valid = tf.cast(x_valid, dtype=tf.float32)\n",
    "x_test = tf.cast(x_test, dtype=tf.float32)"
   ]
  },
  {
   "cell_type": "code",
   "execution_count": 202,
   "metadata": {},
   "outputs": [
    {
     "name": "stdout",
     "output_type": "stream",
     "text": [
      "<tf.Variable 'Variable:0' shape=(12, 1) dtype=float32, numpy=\n",
      "array([[ 6.3167870e-01],\n",
      "       [ 3.6022028e-01],\n",
      "       [-3.3517110e-01],\n",
      "       [-4.9767134e-01],\n",
      "       [ 1.5979151e-01],\n",
      "       [ 4.7650975e-01],\n",
      "       [-3.3633614e-01],\n",
      "       [-2.4714651e+00],\n",
      "       [ 8.5034734e-04],\n",
      "       [ 7.6272637e-02],\n",
      "       [ 3.4943250e-01],\n",
      "       [ 1.6470815e-01]], dtype=float32)>\n",
      "<tf.Variable 'Variable:0' shape=(1,) dtype=float32, numpy=array([0.], dtype=float32)>\n"
     ]
    }
   ],
   "source": [
    "def model(x, w, b):\n",
    "    return tf.matmul(x,w) + b\n",
    "\n",
    "W = tf.Variable(tf.random.normal([12,1], mean = 0.0, stddev = 1.0, dtype = tf.float32))\n",
    "B = tf.Variable(tf.zeros(1), dtype = tf.float32)\n",
    "\n",
    "print(W)\n",
    "print(B)"
   ]
  },
  {
   "cell_type": "code",
   "execution_count": 203,
   "metadata": {},
   "outputs": [],
   "source": [
    "training_epochs = 50\n",
    "learning_rate = 0.005\n",
    "batch_size = 5"
   ]
  },
  {
   "cell_type": "code",
   "execution_count": 204,
   "metadata": {},
   "outputs": [],
   "source": [
    "def loss(x,y,w,b):\n",
    "    err = model(x,w,b)-y\n",
    "    squared_err = tf.square(err)\n",
    "    return tf.reduce_mean(squared_err)\n"
   ]
  },
  {
   "cell_type": "code",
   "execution_count": 205,
   "metadata": {},
   "outputs": [],
   "source": [
    "def grad(x, y, w, b):\n",
    "    with tf.GradientTape() as tape:\n",
    "        loss_ = loss(x, y, w, b)\n",
    "    return tape.gradient(loss_, [w,b])"
   ]
  },
  {
   "cell_type": "code",
   "execution_count": 206,
   "metadata": {},
   "outputs": [],
   "source": [
    "optimizer = tf.keras.optimizers.SGD(learning_rate)"
   ]
  },
  {
   "cell_type": "code",
   "execution_count": 207,
   "metadata": {},
   "outputs": [
    {
     "name": "stdout",
     "output_type": "stream",
     "text": [
      "epoch =   1, train_loss = 520.0232, valid_loss = 614.7798\n",
      "epoch =   2, train_loss = 464.3202, valid_loss = 556.0922\n",
      "epoch =   3, train_loss = 415.4079, valid_loss = 504.1235\n",
      "epoch =   4, train_loss = 372.4947, valid_loss = 458.1147\n",
      "epoch =   5, train_loss = 334.8791, valid_loss = 417.3914\n",
      "epoch =   6, train_loss = 301.9396, valid_loss = 381.3552\n",
      "epoch =   7, train_loss = 273.1258, valid_loss = 349.4747\n",
      "epoch =   8, train_loss = 247.9500, valid_loss = 321.2780\n",
      "epoch =   9, train_loss = 225.9808, valid_loss = 296.3466\n",
      "epoch =  10, train_loss = 206.8361, valid_loss = 274.3088\n",
      "epoch =  11, train_loss = 190.1778, valid_loss = 254.8348\n",
      "epoch =  12, train_loss = 175.7070, valid_loss = 237.6319\n",
      "epoch =  13, train_loss = 163.1591, valid_loss = 222.4404\n",
      "epoch =  14, train_loss = 152.3003, valid_loss = 209.0301\n",
      "epoch =  15, train_loss = 142.9242, valid_loss = 197.1964\n",
      "epoch =  16, train_loss = 134.8480, valid_loss = 186.7582\n",
      "epoch =  17, train_loss = 127.9108, valid_loss = 177.5548\n",
      "epoch =  18, train_loss = 121.9702, valid_loss = 169.4435\n",
      "epoch =  19, train_loss = 116.9007, valid_loss = 162.2981\n",
      "epoch =  20, train_loss = 112.5918, valid_loss = 156.0066\n",
      "epoch =  21, train_loss = 108.9457, valid_loss = 150.4696\n",
      "epoch =  22, train_loss = 105.8768, valid_loss = 145.5992\n",
      "epoch =  23, train_loss = 103.3093, valid_loss = 141.3174\n",
      "epoch =  24, train_loss = 101.1767, valid_loss = 137.5553\n",
      "epoch =  25, train_loss = 99.4206, valid_loss = 134.2518\n",
      "epoch =  26, train_loss = 97.9897, valid_loss = 131.3526\n",
      "epoch =  27, train_loss = 96.8388, valid_loss = 128.8100\n",
      "epoch =  28, train_loss = 95.9284, valid_loss = 126.5814\n",
      "epoch =  29, train_loss = 95.2240, valid_loss = 124.6295\n",
      "epoch =  30, train_loss = 94.6953, valid_loss = 122.9210\n",
      "epoch =  31, train_loss = 94.3159, valid_loss = 121.4266\n",
      "epoch =  32, train_loss = 94.0625, valid_loss = 120.1204\n",
      "epoch =  33, train_loss = 93.9152, valid_loss = 118.9796\n",
      "epoch =  34, train_loss = 93.8565, valid_loss = 117.9838\n",
      "epoch =  35, train_loss = 93.8710, valid_loss = 117.1152\n",
      "epoch =  36, train_loss = 93.9456, valid_loss = 116.3582\n",
      "epoch =  37, train_loss = 94.0690, valid_loss = 115.6987\n",
      "epoch =  38, train_loss = 94.2312, valid_loss = 115.1245\n",
      "epoch =  39, train_loss = 94.4239, valid_loss = 114.6249\n",
      "epoch =  40, train_loss = 94.6397, valid_loss = 114.1903\n",
      "epoch =  41, train_loss = 94.8724, valid_loss = 113.8123\n",
      "epoch =  42, train_loss = 95.1167, valid_loss = 113.4837\n",
      "epoch =  43, train_loss = 95.3682, valid_loss = 113.1979\n",
      "epoch =  44, train_loss = 95.6230, valid_loss = 112.9492\n",
      "epoch =  45, train_loss = 95.8779, valid_loss = 112.7327\n",
      "epoch =  46, train_loss = 96.1304, valid_loss = 112.5440\n",
      "epoch =  47, train_loss = 96.3782, valid_loss = 112.3793\n",
      "epoch =  48, train_loss = 96.6196, valid_loss = 112.2351\n",
      "epoch =  49, train_loss = 96.8531, valid_loss = 112.1087\n",
      "epoch =  50, train_loss = 97.0776, valid_loss = 111.9974\n"
     ]
    }
   ],
   "source": [
    "loss_list_train = []\n",
    "loss_list_valid = []\n",
    "total_step = int(len(x_train)/batch_size)\n",
    "\n",
    "for epoch in range(training_epochs):\n",
    "    for step in range(total_step):\n",
    "        xs = x_train[step*batch_size:(step+1)+batch_size,:]\n",
    "        ys = y_train[step*batch_size:(step+1)+batch_size]\n",
    "\n",
    "        grads = grad(xs, ys, W, B)\n",
    "        optimizer.apply_gradients(zip(grads, [W,B]))\n",
    "    \n",
    "    loss_train = loss(x_train, y_train, W, B).numpy()\n",
    "    loss_valid = loss(x_valid, y_valid, W, B).numpy()\n",
    "    loss_list_train.append(loss_train)\n",
    "    loss_list_valid.append(loss_valid)\n",
    "\n",
    "    print(\"epoch = {:3d}, train_loss = {:.4f}, valid_loss = {:.4f}\".format(epoch+1, loss_train, loss_valid))"
   ]
  },
  {
   "cell_type": "code",
   "execution_count": 208,
   "metadata": {},
   "outputs": [
    {
     "data": {
      "text/plain": [
       "<matplotlib.legend.Legend at 0x23e758c5700>"
      ]
     },
     "execution_count": 208,
     "metadata": {},
     "output_type": "execute_result"
    },
    {
     "data": {
      "image/png": "[encoded data removed]",
      "text/plain": [
       "<Figure size 640x480 with 1 Axes>"
      ]
     },
     "metadata": {},
     "output_type": "display_data"
    }
   ],
   "source": [
    "plt.xlabel(\"Epochs\")\n",
    "plt.ylabel(\"Loss\")\n",
    "plt.plot(loss_list_train,'b', label = \"Train Loss\")\n",
    "plt.plot(loss_list_valid,'r', label = \"Validation Loss\")\n",
    "plt.legend(loc = \"upper right\")"
   ]
  },
  {
   "cell_type": "code",
   "execution_count": 209,
   "metadata": {},
   "outputs": [
    {
     "name": "stdout",
     "output_type": "stream",
     "text": [
      "Test loss:92.9122\n"
     ]
    }
   ],
   "source": [
    "print(\"Test loss:{:.4f}\".format(loss(x_test, y_test, W, B).numpy()))"
   ]
  },
  {
   "cell_type": "code",
   "execution_count": 210,
   "metadata": {},
   "outputs": [
    {
     "name": "stdout",
     "output_type": "stream",
     "text": [
      "House id:  27 , Actural house value: 23.7 , Prediction:  27.671577\n"
     ]
    }
   ],
   "source": [
    "test_house_id = np.random.randint(0, len(x_test))\n",
    "y = y_test[test_house_id]\n",
    "y_pred = model(x_test, W,B)[test_house_id]\n",
    "y_prediction = tf.reshape(y_pred,()).numpy()\n",
    "print(\"House id: \", test_house_id, \", Actural house value:\" , y, \", Prediction: \", y_prediction)"
   ]
  },
  {
   "cell_type": "code",
   "execution_count": 211,
   "metadata": {},
   "outputs": [
    {
     "name": "stdout",
     "output_type": "stream",
     "text": [
      "<tf.Variable 'Variable:0' shape=(12, 1) dtype=float32, numpy=\n",
      "array([[0.7323222],\n",
      "       [3.2577877],\n",
      "       [1.5353239],\n",
      "       [1.3618577],\n",
      "       [1.9337152],\n",
      "       [5.862553 ],\n",
      "       [4.900774 ],\n",
      "       [0.7768651],\n",
      "       [1.8083956],\n",
      "       [2.9452863],\n",
      "       [6.1591287],\n",
      "       [1.6953689]], dtype=float32)>\n",
      "<tf.Variable 'Variable:0' shape=(1,) dtype=float32, numpy=array([8.913606], dtype=float32)>\n"
     ]
    }
   ],
   "source": [
    "print(W)\n",
    "print(B)"
   ]
  },
  {
   "cell_type": "code",
   "execution_count": null,
   "metadata": {},
   "outputs": [],
   "source": []
  }
 ],
 "metadata": {
  "kernelspec": {
   "display_name": "Python 3.8 (tensorflow)",
   "language": "python",
   "name": "tensorflow"
  },
  "language_info": {
   "codemirror_mode": {
    "name": "ipython",
    "version": 3
   },
   "file_extension": ".py",
   "mimetype": "text/x-python",
   "name": "python",
   "nbconvert_exporter": "python",
   "pygments_lexer": "ipython3",
   "version": "3.9.13"
  },
  "orig_nbformat": 4
 },
 "nbformat": 4,
 "nbformat_minor": 2
}
